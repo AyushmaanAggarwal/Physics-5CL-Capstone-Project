{
 "cells": [
  {
   "cell_type": "code",
   "execution_count": 7,
   "id": "413d08d1-d694-4827-921a-248556a61e36",
   "metadata": {},
   "outputs": [],
   "source": [
    "import DataAnalysis as da\n",
    "import numpy as np\n",
    "import pickle\n",
    "import matplotlib.pyplot as plt\n",
    "import scipy.optimize as opt\n",
    "%matplotlib inline"
   ]
  },
  {
   "cell_type": "code",
   "execution_count": 11,
   "id": "c10b79f5-1ba0-494b-9901-b5eba59f4d48",
   "metadata": {},
   "outputs": [],
   "source": [
    "with open(f\"pickled_fit\", 'rb') as file:\n",
    "    var = pickle.load(file=file)\n",
    "    x_calibration = var[\"x\"]\n",
    "    y_calibration = var[\"y\"]\n",
    "    \n",
    "def fit_func(x, x_lst, y_lst):\n",
    "    def helperClosest(x, lst):\n",
    "        assert x >= min(lst) and x <= max(lst), f\"x={x} is not in [{min(lst)},{max(lst)}]\"\n",
    "        range_lst = max(lst) - min(lst)\n",
    "        x = x - min(lst)\n",
    "        low_index = int(x//1e-9)\n",
    "        high_index = low_index + 1\n",
    "        print(lst[low_index], lst[high_index])\n",
    "        return low_index, high_index\n",
    "    def helperFarthest(x):\n",
    "        a, b = helperClosest(x, x_lst)\n",
    "        b_weight = (x-x_lst[a])/(x_lst[b]-x_lst[a])\n",
    "        a_weight = 1 - b_weight\n",
    "        print(a_weight, b_weight)\n",
    "        return a_weight*y_lst[a] + b_weight*y_lst[b]\n",
    "    if (type(x)==type([])):\n",
    "        return [helperFarthest(val) for val in x]\n",
    "    return helperFarthest(x)\n",
    "calibration_model = lambda val: fit_func(val, x_calibration, y_calibration)"
   ]
  },
  {
   "cell_type": "markdown",
   "id": "883fdb94-8bf2-494e-95bd-98caa36c9a71",
   "metadata": {},
   "source": [
    "### Load in Data for Peak Wavelength vs Photocurrent, Convert units, Propagate Error in Wavelength"
   ]
  },
  {
   "cell_type": "code",
   "execution_count": 12,
   "id": "46413928-b05d-40c8-9ce9-0d5c713db8e1",
   "metadata": {},
   "outputs": [],
   "source": [
    "wavelength = np.array([510, 480, 450, 520, 530, 550, 575, 565, 540, 585, 600]) #nanometers\n",
    "w_err = 7e-9 #meters\n",
    "wavelength_m = np.array([(1e-9)*i for i in wavelength]) #wavelength in meters\n",
    "\n",
    "wavelength_with_error = da.get_uncertain_array(wavelength_m, w_err) #propagate error\n",
    "\n",
    "photocurrent_nA = np.array([43, 29, 14, 40, 32, 18, 3, 7, 32, 3, 0]) #nanoamps\n",
    "photocurrent = np.array([(1e-9)*i for i in photocurrent_nA]) #Amps\n",
    "p_err = 4e-9 #Amps, #Error in photocurrent as observed in lab\n",
    "\n",
    "def frequency(w):\n",
    "    \"Function for converting wavelengths to frequencies\"\n",
    "    return (3*(1e8))/w\n",
    "\n",
    "freq_with_error = np.array([frequency(i) for i in wavelength_with_error]) #frequency data with error as single object\n",
    "\n",
    "#Divide frequency array into separate frequency and error objects\n",
    "freq = da.seperate_uncertainty_array(freq_with_error) #Hertz"
   ]
  },
  {
   "cell_type": "markdown",
   "id": "5b43cde4-c891-4922-b496-db944ec43358",
   "metadata": {},
   "source": [
    "### Plot of frequency vs. photocurrent"
   ]
  },
  {
   "cell_type": "code",
   "execution_count": 13,
   "id": "2fdfca2f-b27a-4cad-baf1-35f4e5031703",
   "metadata": {},
   "outputs": [
    {
     "data": {
      "text/plain": [
       "<matplotlib.legend.Legend at 0x7f6fbd67cf40>"
      ]
     },
     "execution_count": 13,
     "metadata": {},
     "output_type": "execute_result"
    },
    {
     "data": {
      "image/png": "[encoded data removed]",
      "text/plain": [
       "<Figure size 432x288 with 1 Axes>"
      ]
     },
     "metadata": {
      "needs_background": "light"
     },
     "output_type": "display_data"
    }
   ],
   "source": [
    "plt.figure()\n",
    "plt.title(\"Frequency vs. Photocurrent Preliminary Plot\")\n",
    "plt.xlabel(\"Frequency (Hz)\")\n",
    "plt.ylabel(\"Photocurrent (Amps)\")\n",
    "plt.errorbar(x=freq[0], y=photocurrent, xerr=freq[1], yerr=p_err, fmt=\"o\", label=\"Raw Data\")\n",
    "plt.legend()"
   ]
  },
  {
   "cell_type": "markdown",
   "id": "4feb44be-6542-4e52-9f01-d3d18edcd9ad",
   "metadata": {},
   "source": [
    "### Weighted Fit for data"
   ]
  },
  {
   "cell_type": "code",
   "execution_count": 27,
   "id": "1d16f3ad-e68f-4525-b3c6-11ae818ae7e9",
   "metadata": {},
   "outputs": [
    {
     "name": "stdout",
     "output_type": "stream",
     "text": [
      "5.09e-07 5.100000000000001e-07\n",
      "1.0591527654923993e-13 0.9999999999998941\n",
      "4.800000000000001e-07 4.81e-07\n",
      "1.0 0.0\n",
      "4.5e-07 4.51e-07\n",
      "0.999999999999947 5.29395592033926e-14\n",
      "5.2e-07 5.21e-07\n",
      "1.0 0.0\n",
      "5.3e-07 5.31e-07\n",
      "1.0 0.0\n",
      "5.5e-07 5.51e-07\n",
      "1.0 0.0\n",
      "5.75e-07 5.760000000000001e-07\n",
      "1.0 0.0\n",
      "5.64e-07 5.65e-07\n",
      "0.0 1.0\n",
      "5.4e-07 5.410000000000001e-07\n",
      "1.0 0.0\n",
      "5.85e-07 5.860000000000001e-07\n",
      "1.0 0.0\n",
      "6e-07 6.009999999999999e-07\n",
      "0.9999999999998941 1.058791184067908e-13\n"
     ]
    },
    {
     "data": {
      "text/plain": [
       "<matplotlib.legend.Legend at 0x7f6fbcc4b790>"
      ]
     },
     "execution_count": 27,
     "metadata": {},
     "output_type": "execute_result"
    },
    {
     "data": {
      "image/png": "[encoded data removed]",
      "text/plain": [
       "<Figure size 432x288 with 1 Axes>"
      ]
     },
     "metadata": {
      "needs_background": "light"
     },
     "output_type": "display_data"
    }
   ],
   "source": [
    "##use linear fit, then analyze fit after normalizing with garima's model.\n",
    "wave = [3e8/f for f in freq[0]]\n",
    "weighted_photocurrent = np.divide(photocurrent, calibration_model(wave))\n",
    "plt.figure()\n",
    "plt.title(\"Frequency vs. Photocurrent Preliminary Plot\")\n",
    "plt.ylabel(\"Frequency (Hz)\")\n",
    "plt.xlabel(\"Photocurrent (Amps)\")\n",
    "plt.errorbar(x=weighted_photocurrent, y=freq[0], fmt=\"o\", label=\"Raw Data\")\n",
    "plt.legend()"
   ]
  },
  {
   "cell_type": "code",
   "execution_count": 34,
   "id": "cc0af911-ed9b-4658-8e6b-a9174178abd9",
   "metadata": {},
   "outputs": [
    {
     "name": "stdout",
     "output_type": "stream",
     "text": [
      "m = 5.1e+24±4.8e+10, c = 5.1e+14±0.67, Χ² = 2.9e+27\n",
      "Equation: y = (5.1e+24±4.8e+10)*x + (5.1e+14±0.67)\n"
     ]
    },
    {
     "data": {
      "text/plain": [
       "([5.051764083647548e+24, 507420395696818.44],\n",
       " [47943448580.31653, 0.6737743198815253],\n",
       " [array([6.29216733e+14, 6.04158105e+14, 5.78794418e+14, 5.42918703e+14,\n",
       "         5.12994162e+14, 5.20524454e+14, 5.74743589e+14]),\n",
       "  array([-3.74499336e+13,  2.72350277e+13,  1.27566822e+13, -2.53584266e+12,\n",
       "         -8.74496890e+12, -1.04489977e+13,  1.91880330e+13])],\n",
       " [2.867244346703723e+27])"
      ]
     },
     "execution_count": 34,
     "metadata": {},
     "output_type": "execute_result"
    }
   ],
   "source": [
    "da.weighted_least_squares_linear(weighted_photocurrent[2:-2], freq[0][2:-2],np.ones(len(freq[0][2:-2])))"
   ]
  },
  {
   "cell_type": "code",
   "execution_count": 36,
   "id": "c9bfbad3-b79e-4298-be59-bef3d2ec5435",
   "metadata": {},
   "outputs": [
    {
     "data": {
      "text/plain": [
       "8.77450980392157e-19"
      ]
     },
     "execution_count": 36,
     "metadata": {},
     "output_type": "execute_result"
    }
   ],
   "source": [
    "1/(5.1e+24/4.475e6)\n"
   ]
  },
  {
   "cell_type": "code",
   "execution_count": null,
   "id": "f976333a-8b87-46a4-835b-7f5a570e493d",
   "metadata": {},
   "outputs": [],
   "source": []
  }
 ],
 "metadata": {
  "kernelspec": {
   "display_name": "Python 3 (ipykernel)",
   "language": "python",
   "name": "python3"
  },
  "language_info": {
   "codemirror_mode": {
    "name": "ipython",
    "version": 3
   },
   "file_extension": ".py",
   "mimetype": "text/x-python",
   "name": "python",
   "nbconvert_exporter": "python",
   "pygments_lexer": "ipython3",
   "version": "3.10.8"
  },
  "toc-showcode": false
 },
 "nbformat": 4,
 "nbformat_minor": 5
}
