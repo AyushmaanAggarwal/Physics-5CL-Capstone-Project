{
 "cells": [
  {
   "cell_type": "code",
   "execution_count": 9,
   "id": "0af944a7-3e6c-42f8-b9d4-6e66cd5cb235",
   "metadata": {
    "tags": []
   },
   "outputs": [],
   "source": [
    "import DataAnalysis as da\n",
    "import csv\n",
    "import os\n",
    "import numpy as np\n",
    "import matplotlib.pyplot as plt\n",
    "import scipy.optimize as opt\n",
    "import pandas as pd\n",
    "from uncertainties import ufloat\n",
    "%matplotlib inline"
   ]
  },
  {
   "cell_type": "markdown",
   "id": "bd9f2e73-bfb7-4e8c-a33f-4d3a490354a2",
   "metadata": {
    "tags": []
   },
   "source": [
    "# Functions"
   ]
  },
  {
   "cell_type": "code",
   "execution_count": 10,
   "id": "a02ec583-4506-4ac3-a595-2b989c47faf8",
   "metadata": {},
   "outputs": [],
   "source": [
    "def non_ohmic(V, V_0, a, b, c):\n",
    "    V = V - V_0\n",
    "    \n",
    "    if V < 0:\n",
    "        return 0\n",
    "    elif V > c:\n",
    "        slope = 2*a*c + b\n",
    "        x_point = c\n",
    "        y_point = a*c**2 + b*c\n",
    "        return slope*(V-x_point) + y_point\n",
    "    return a*V**2 + b*V\n",
    "\n",
    "def non_ohmic_list(V, V_0, a, b, c):\n",
    "    return [non_ohmic(volt, V_0, a, b, c) for volt in V]\n",
    "\n",
    "\n",
    "def stoping_voltage(V_0, a, b, c):\n",
    "    # y-y_1 = slope(x-x_1)\n",
    "    # 0-y_1/slope = x - (c+V_0)\n",
    "    x = c\n",
    "    y = a*x**2 + b*x\n",
    "    slope = (2*a*c + b)\n",
    "    return -y/slope + x + V_0\n",
    "\n",
    "def stoping_voltage(V_0, a, b, c):\n",
    "    # y-y_1 = slope(x-x_1)\n",
    "    # 0-y_1/slope = x - (c+V_0)\n",
    "    x = c\n",
    "    y = a*x**2 + b*x\n",
    "    slope = (2*a*c + b)\n",
    "    return -y/slope + x + V_0\n",
    "\n",
    "def linear_fit(x, a, b, c, V_0):\n",
    "    V = np.array(x) - V_0\n",
    "    slope = 2*a*c + b\n",
    "    x_point = c\n",
    "    y_point = a*c**2 + b*c\n",
    "    return slope*(V-x_point) + y_point\n",
    "\n",
    "def freq_func(wavelength): \n",
    "    return 3e8/wavelength\n",
    "\n",
    "def freq_error(wavelength, error):\n",
    "    return 3e8/wavelength**2*error"
   ]
  },
  {
   "cell_type": "code",
   "execution_count": 18,
   "id": "57aa1331-65f8-4d97-83cd-9287cb56f04e",
   "metadata": {},
   "outputs": [],
   "source": [
    "def stop_voltage_plot(Voltage, Current, name, estimate_v_0=-649, estimate_c=700):\n",
    "    p, cov = opt.curve_fit(non_ohmic_list, Voltage, Current, [estimate_v_0, 1, 1, estimate_c])\n",
    "    p_err = np.sqrt(np.diag(cov))\n",
    "    V_0, a, b, c= [ufloat(val, error) for val, error in zip(p, p_err)]\n",
    "    #c = c if c<estimate_c+500 else estimate_c+500\n",
    "\n",
    "    volt_stop_w_err = -stoping_voltage(V_0, a, b, c)\n",
    "    print(f\"The Stopping Voltage is : {volt_stop_w_err}\")\n",
    "    volt_stop = volt_stop_w_err.nominal_value\n",
    "    #print(f\"The fitted parameters are: {p}\")\n",
    "    print(f\"The Stopping Voltage is : {volt_stop}\")\n",
    "    fig, ax = plt.subplots(1, 2, figsize=(16,5))\n",
    "    ax[0].axhline(color=\"black\")    \n",
    "    ax[0].text(min(Voltage), np.mean(Current)*1.5, f\"a = {a:.2e}, b = {b:.2e}\")\n",
    "    ax[0].text(min(Voltage), np.mean(Current)*1.35, f\"c = {c:.2e}, v_0 = {V_0:.2e}\")\n",
    "    ax[0].errorbar(Voltage, Current, label=\"Raw Data\", fmt=\"o\", yerr = 5, xerr=5,  capsize=2,elinewidth=1, markeredgewidth=2)\n",
    "    ax[0].plot(np.sort(Voltage), non_ohmic_list(np.sort(Voltage), V_0, a, b, c), label=\"Fitted Curve\")\n",
    "    volt_spaced = list(range(int(min(Voltage)), 500, 200))\n",
    "    ax[0].errorbar(np.sort(volt_spaced), linear_fit(np.sort(volt_spaced),a, b, c, V_0), label=\"Linear Asymptpte\", yerr = 5*np.sqrt(len(Voltage)), xerr=5*np.sqrt(len(Voltage)),  capsize=2,elinewidth=1, markeredgewidth=2)\n",
    "    ax[0].set_ylim((-max(Current)*.02, max(Current)*1.05))\n",
    "    ax[0].errorbar(-volt_stop, 0, xerr=5*np.sqrt(len(Voltage))*np.sqrt(2),  capsize=2,elinewidth=1, markeredgewidth=2, color='red', zorder=6, label=\"Stopping Voltage\")\n",
    "    print(5*np.sqrt(len(Voltage))*np.sqrt(2))\n",
    "    ax[0].set_xlabel(\"Voltage (mV)\")\n",
    "    ax[0].set_ylabel(\"Photocurrent (nA)\")\n",
    "    ax[0].set_title(\"Voltage vs Photocurrent\")\n",
    "    \n",
    "    ax[1].errorbar(Voltage, np.subtract(non_ohmic_list(Voltage, V_0, a, b, c), Current), label = \"Residuals\", fmt=\"o\", yerr = 5, xerr=5,  capsize=2,elinewidth=1)\n",
    "    ax[1].axhline(0, label = \"Reference Line\")\n",
    "    ax[1].set_xlabel(\"Voltage (mV)\")\n",
    "    ax[1].set_ylabel(\"Residual (y_pred - y_act)\")\n",
    "    ax[1].set_title(\"Residual\")    \n",
    "    ax[0].legend()\n",
    "    ax[1].legend()\n",
    "    fig.suptitle(name)\n",
    "    plt.show()\n",
    "    return ufloat(volt_stop, 0)"
   ]
  },
  {
   "cell_type": "code",
   "execution_count": 12,
   "id": "6116146f-aed0-4ed8-a158-f35767c844cc",
   "metadata": {
    "tags": []
   },
   "outputs": [
    {
     "ename": "SyntaxError",
     "evalue": "invalid syntax. Perhaps you forgot a comma? (3355450691.py, line 7)",
     "output_type": "error",
     "traceback": [
      "\u001b[0;36m  File \u001b[0;32m\"/tmp/ipykernel_47973/3355450691.py\"\u001b[0;36m, line \u001b[0;32m7\u001b[0m\n\u001b[0;31m    error = np.sqrt(np.add(np.square(np.multiply(m_simple, v_stop_err)), np.square)\u001b[0m\n\u001b[0m                    ^\u001b[0m\n\u001b[0;31mSyntaxError\u001b[0m\u001b[0;31m:\u001b[0m invalid syntax. Perhaps you forgot a comma?\n"
     ]
    }
   ],
   "source": [
    "def func(v_stop, v_stop_err, wavelength, wavelength_err, name):\n",
    "    kin = [v*1e-3 for v in v_stop]\n",
    "    kin_err = [v*1e-3 for v in v_stop_err]\n",
    "    freq = list(map(freq_func, wavelength))\n",
    "    freq_err  = [freq_err(wavelength, wavelength_error)]\n",
    "    \n",
    "    error = np.sqrt(np.add(np.square(np.multiply(m_simple, v_stop_err)), np.square)\n",
    "    p, v = kin, freq, 1, cov=True)\n",
    "    \n",
    "    \n",
    "    #print(f\"The fitted parameters are: {p}\")\n",
    "    print(f\"The Stopping Voltage is : {volt_stop}\")\n",
    "    fig, ax = plt.subplots(1, 2, figsize=(16,5))\n",
    "    ax[0].axhline(color=\"black\")    \n",
    "    ax[0].text(min(Voltage), np.mean(Current)*1.5, f\"a = {a:.2e}, b = {b:.2e}\")\n",
    "    ax[0].text(min(Voltage), np.mean(Current)*1.35, f\"c = {c:.2e}, v_0 = {V_0:.2e}\")\n",
    "    ax[0].errorbar(Voltage, Current, label=\"Raw Data\", fmt=\"o\", yerr = 5, xerr=5,  capsize=2,elinewidth=1, markeredgewidth=2)\n",
    "    ax[0].plot(np.sort(Voltage), non_ohmic_list(np.sort(Voltage), V_0, a, b, c), label=\"Fitted Curve\")\n",
    "    volt_spaced = list(range(int(min(Voltage)), 500, 200))\n",
    "    #ax[0].errorbar(np.sort(volt_spaced), linear_fit(np.sort(volt_spaced),a, b, c, V_0), label=\"Linear Asymptpte\", yerr = 5*np.sqrt(len(Voltage)), xerr=5*np.sqrt(len(Voltage)),  capsize=2,elinewidth=1, markeredgewidth=2)\n",
    "    ax[0].set_ylim((-max(Current)*.02, max(Current)*1.05))\n",
    "    ax[0].errorbar(-volt_stop, 0, xerr=5*np.sqrt(len(Voltage))*np.sqrt(2),  capsize=2,elinewidth=1, markeredgewidth=2, color='red', zorder=6, label=\"Stopping Voltage\")\n",
    "    print(5*np.sqrt(len(Voltage))*np.sqrt(2))\n",
    "    ax[0].set_xlabel(\"Voltage (mV)\")\n",
    "    ax[0].set_ylabel(\"Photocurrent (nA)\")\n",
    "    ax[0].set_title(\"Voltage vs Photocurrent\")\n",
    "    \n",
    "    ax[1].errorbar(Voltage, np.subtract(non_ohmic_list(Voltage, V_0, a, b, c), Current), label = \"Residuals\", fmt=\"o\", yerr = 5, xerr=5,  capsize=2,elinewidth=1)\n",
    "    ax[1].axhline(0, label = \"Reference Line\")\n",
    "    ax[1].set_xlabel(\"Voltage (mV)\")\n",
    "    ax[1].set_ylabel(\"Residual (y_pred - y_act)\")\n",
    "    ax[1].set_title(\"Residual\")    \n",
    "    ax[0].legend()\n",
    "    ax[1].legend()\n",
    "    fig.suptitle(name)\n",
    "    plt.show()\n",
    "    return volt_stop"
   ]
  },
  {
   "cell_type": "code",
   "execution_count": 13,
   "id": "a374b495-d609-4b01-acc2-c46b1096e1ce",
   "metadata": {},
   "outputs": [],
   "source": [
    "def open_file_and_return_data(file_name):\n",
    "    \"\"\"\n",
    "    This function will open the Oscilliscope data with the least amount of memory possible to prevent crashing by\n",
    "    openning and closing the file while only saving the values of the ch1, ch2 and time markers\n",
    "    These data lists are then returned for data processing and analysis.\n",
    "    \"\"\"\n",
    "    wavelength, voltage, current  = [],[],[]\n",
    "    \n",
    "    # opening the CSV file\n",
    "    with open(file_name, mode ='r') as file:\n",
    "       # reading the CSV file\n",
    "        csvFile = csv.reader(file)\n",
    "        \n",
    "        headers = next(csvFile)\n",
    "        assert headers[0] == 'Wavelength (nm)'\n",
    "        \n",
    "        wavelength_index = headers.index(\"Wavelength (nm)\")\n",
    "        voltage_index = headers.index(\"Voltage (mV)\")\n",
    "        current_index = headers.index(\"Current (uA)\")\n",
    "        \n",
    "        # saving the contents of the CSV file\n",
    "        for lines in csvFile:\n",
    "            try:\n",
    "                if (len(wavelength) > 1):\n",
    "                    wavelength.append(float(lines[wavelength_index]))\n",
    "                voltage.append(float(lines[voltage_index]))\n",
    "                current.append(float(lines[current_index]))    \n",
    "            except IndexError:\n",
    "                break\n",
    "    return wavelength, voltage, current"
   ]
  },
  {
   "cell_type": "markdown",
   "id": "54b05bf5-b468-42ca-823e-b7dbcce5283b",
   "metadata": {},
   "source": [
    "# Import Data"
   ]
  },
  {
   "cell_type": "code",
   "execution_count": 14,
   "id": "97600de3-596f-41e7-9242-998fcbdb63ab",
   "metadata": {},
   "outputs": [
    {
     "name": "stdout",
     "output_type": "stream",
     "text": [
      "Method 1: ['Data/Sample.csv']\n"
     ]
    }
   ],
   "source": [
    "data1_files = [ \"Data/\"+file for file in os.listdir(\"Data\") if file.endswith(\".csv\")]\n",
    "print(f\"Method 1: {data1_files}\")"
   ]
  },
  {
   "cell_type": "code",
   "execution_count": 15,
   "id": "08015f5f-a937-49d5-a869-2ec861f1024e",
   "metadata": {},
   "outputs": [],
   "source": [
    "data = [open_file_and_return_data(file) for file in data1_files]\n",
    "initial_params = [[-649, 700]]"
   ]
  },
  {
   "cell_type": "code",
   "execution_count": 19,
   "id": "b014b4c2-fe01-4b7f-bffa-fc4f8923d551",
   "metadata": {},
   "outputs": [
    {
     "name": "stdout",
     "output_type": "stream",
     "text": [
      "The Stopping Voltage is : (0.0+/-1.1)e+04\n",
      "The Stopping Voltage is : 332.3772143822286\n"
     ]
    },
    {
     "ename": "TypeError",
     "evalue": "can't convert an affine function (<class 'uncertainties.core.AffineScalarFunc'>) to float; use x.nominal_value",
     "output_type": "error",
     "traceback": [
      "\u001b[0;31m---------------------------------------------------------------------------\u001b[0m",
      "\u001b[0;31mTypeError\u001b[0m                                 Traceback (most recent call last)",
      "\u001b[0;32m/tmp/ipykernel_47973/2817478617.py\u001b[0m in \u001b[0;36m<module>\u001b[0;34m\u001b[0m\n\u001b[0;32m----> 1\u001b[0;31m stop_volt = [stop_voltage_plot(data[i][1], data[i][2], f\"Photoelectric Effect with λ = {data[i][0]} nm\",\n\u001b[0m\u001b[1;32m      2\u001b[0m                                initial_params[i][0], initial_params[i][1]) for i in range(len(data))]\n",
      "\u001b[0;32m/tmp/ipykernel_47973/2817478617.py\u001b[0m in \u001b[0;36m<listcomp>\u001b[0;34m(.0)\u001b[0m\n\u001b[0;32m----> 1\u001b[0;31m stop_volt = [stop_voltage_plot(data[i][1], data[i][2], f\"Photoelectric Effect with λ = {data[i][0]} nm\",\n\u001b[0m\u001b[1;32m      2\u001b[0m                                initial_params[i][0], initial_params[i][1]) for i in range(len(data))]\n",
      "\u001b[0;32m/tmp/ipykernel_47973/189205212.py\u001b[0m in \u001b[0;36mstop_voltage_plot\u001b[0;34m(Voltage, Current, name, estimate_v_0, estimate_c)\u001b[0m\n\u001b[1;32m     15\u001b[0m     \u001b[0max\u001b[0m\u001b[0;34m[\u001b[0m\u001b[0;36m0\u001b[0m\u001b[0;34m]\u001b[0m\u001b[0;34m.\u001b[0m\u001b[0mtext\u001b[0m\u001b[0;34m(\u001b[0m\u001b[0mmin\u001b[0m\u001b[0;34m(\u001b[0m\u001b[0mVoltage\u001b[0m\u001b[0;34m)\u001b[0m\u001b[0;34m,\u001b[0m \u001b[0mnp\u001b[0m\u001b[0;34m.\u001b[0m\u001b[0mmean\u001b[0m\u001b[0;34m(\u001b[0m\u001b[0mCurrent\u001b[0m\u001b[0;34m)\u001b[0m\u001b[0;34m*\u001b[0m\u001b[0;36m1.35\u001b[0m\u001b[0;34m,\u001b[0m \u001b[0;34mf\"c = {c:.2e}, v_0 = {V_0:.2e}\"\u001b[0m\u001b[0;34m)\u001b[0m\u001b[0;34m\u001b[0m\u001b[0;34m\u001b[0m\u001b[0m\n\u001b[1;32m     16\u001b[0m     \u001b[0max\u001b[0m\u001b[0;34m[\u001b[0m\u001b[0;36m0\u001b[0m\u001b[0;34m]\u001b[0m\u001b[0;34m.\u001b[0m\u001b[0merrorbar\u001b[0m\u001b[0;34m(\u001b[0m\u001b[0mVoltage\u001b[0m\u001b[0;34m,\u001b[0m \u001b[0mCurrent\u001b[0m\u001b[0;34m,\u001b[0m \u001b[0mlabel\u001b[0m\u001b[0;34m=\u001b[0m\u001b[0;34m\"Raw Data\"\u001b[0m\u001b[0;34m,\u001b[0m \u001b[0mfmt\u001b[0m\u001b[0;34m=\u001b[0m\u001b[0;34m\"o\"\u001b[0m\u001b[0;34m,\u001b[0m \u001b[0myerr\u001b[0m \u001b[0;34m=\u001b[0m \u001b[0;36m5\u001b[0m\u001b[0;34m,\u001b[0m \u001b[0mxerr\u001b[0m\u001b[0;34m=\u001b[0m\u001b[0;36m5\u001b[0m\u001b[0;34m,\u001b[0m  \u001b[0mcapsize\u001b[0m\u001b[0;34m=\u001b[0m\u001b[0;36m2\u001b[0m\u001b[0;34m,\u001b[0m\u001b[0melinewidth\u001b[0m\u001b[0;34m=\u001b[0m\u001b[0;36m1\u001b[0m\u001b[0;34m,\u001b[0m \u001b[0mmarkeredgewidth\u001b[0m\u001b[0;34m=\u001b[0m\u001b[0;36m2\u001b[0m\u001b[0;34m)\u001b[0m\u001b[0;34m\u001b[0m\u001b[0;34m\u001b[0m\u001b[0m\n\u001b[0;32m---> 17\u001b[0;31m     \u001b[0max\u001b[0m\u001b[0;34m[\u001b[0m\u001b[0;36m0\u001b[0m\u001b[0;34m]\u001b[0m\u001b[0;34m.\u001b[0m\u001b[0mplot\u001b[0m\u001b[0;34m(\u001b[0m\u001b[0mnp\u001b[0m\u001b[0;34m.\u001b[0m\u001b[0msort\u001b[0m\u001b[0;34m(\u001b[0m\u001b[0mVoltage\u001b[0m\u001b[0;34m)\u001b[0m\u001b[0;34m,\u001b[0m \u001b[0mnon_ohmic_list\u001b[0m\u001b[0;34m(\u001b[0m\u001b[0mnp\u001b[0m\u001b[0;34m.\u001b[0m\u001b[0msort\u001b[0m\u001b[0;34m(\u001b[0m\u001b[0mVoltage\u001b[0m\u001b[0;34m)\u001b[0m\u001b[0;34m,\u001b[0m \u001b[0mV_0\u001b[0m\u001b[0;34m,\u001b[0m \u001b[0ma\u001b[0m\u001b[0;34m,\u001b[0m \u001b[0mb\u001b[0m\u001b[0;34m,\u001b[0m \u001b[0mc\u001b[0m\u001b[0;34m)\u001b[0m\u001b[0;34m,\u001b[0m \u001b[0mlabel\u001b[0m\u001b[0;34m=\u001b[0m\u001b[0;34m\"Fitted Curve\"\u001b[0m\u001b[0;34m)\u001b[0m\u001b[0;34m\u001b[0m\u001b[0;34m\u001b[0m\u001b[0m\n\u001b[0m\u001b[1;32m     18\u001b[0m     \u001b[0mvolt_spaced\u001b[0m \u001b[0;34m=\u001b[0m \u001b[0mlist\u001b[0m\u001b[0;34m(\u001b[0m\u001b[0mrange\u001b[0m\u001b[0;34m(\u001b[0m\u001b[0mint\u001b[0m\u001b[0;34m(\u001b[0m\u001b[0mmin\u001b[0m\u001b[0;34m(\u001b[0m\u001b[0mVoltage\u001b[0m\u001b[0;34m)\u001b[0m\u001b[0;34m)\u001b[0m\u001b[0;34m,\u001b[0m \u001b[0;36m500\u001b[0m\u001b[0;34m,\u001b[0m \u001b[0;36m200\u001b[0m\u001b[0;34m)\u001b[0m\u001b[0;34m)\u001b[0m\u001b[0;34m\u001b[0m\u001b[0;34m\u001b[0m\u001b[0m\n\u001b[1;32m     19\u001b[0m     \u001b[0max\u001b[0m\u001b[0;34m[\u001b[0m\u001b[0;36m0\u001b[0m\u001b[0;34m]\u001b[0m\u001b[0;34m.\u001b[0m\u001b[0merrorbar\u001b[0m\u001b[0;34m(\u001b[0m\u001b[0mnp\u001b[0m\u001b[0;34m.\u001b[0m\u001b[0msort\u001b[0m\u001b[0;34m(\u001b[0m\u001b[0mvolt_spaced\u001b[0m\u001b[0;34m)\u001b[0m\u001b[0;34m,\u001b[0m \u001b[0mlinear_fit\u001b[0m\u001b[0;34m(\u001b[0m\u001b[0mnp\u001b[0m\u001b[0;34m.\u001b[0m\u001b[0msort\u001b[0m\u001b[0;34m(\u001b[0m\u001b[0mvolt_spaced\u001b[0m\u001b[0;34m)\u001b[0m\u001b[0;34m,\u001b[0m\u001b[0ma\u001b[0m\u001b[0;34m,\u001b[0m \u001b[0mb\u001b[0m\u001b[0;34m,\u001b[0m \u001b[0mc\u001b[0m\u001b[0;34m,\u001b[0m \u001b[0mV_0\u001b[0m\u001b[0;34m)\u001b[0m\u001b[0;34m,\u001b[0m \u001b[0mlabel\u001b[0m\u001b[0;34m=\u001b[0m\u001b[0;34m\"Linear Asymptpte\"\u001b[0m\u001b[0;34m,\u001b[0m \u001b[0myerr\u001b[0m \u001b[0;34m=\u001b[0m \u001b[0;36m5\u001b[0m\u001b[0;34m*\u001b[0m\u001b[0mnp\u001b[0m\u001b[0;34m.\u001b[0m\u001b[0msqrt\u001b[0m\u001b[0;34m(\u001b[0m\u001b[0mlen\u001b[0m\u001b[0;34m(\u001b[0m\u001b[0mVoltage\u001b[0m\u001b[0;34m)\u001b[0m\u001b[0;34m)\u001b[0m\u001b[0;34m,\u001b[0m \u001b[0mxerr\u001b[0m\u001b[0;34m=\u001b[0m\u001b[0;36m5\u001b[0m\u001b[0;34m*\u001b[0m\u001b[0mnp\u001b[0m\u001b[0;34m.\u001b[0m\u001b[0msqrt\u001b[0m\u001b[0;34m(\u001b[0m\u001b[0mlen\u001b[0m\u001b[0;34m(\u001b[0m\u001b[0mVoltage\u001b[0m\u001b[0;34m)\u001b[0m\u001b[0;34m)\u001b[0m\u001b[0;34m,\u001b[0m  \u001b[0mcapsize\u001b[0m\u001b[0;34m=\u001b[0m\u001b[0;36m2\u001b[0m\u001b[0;34m,\u001b[0m\u001b[0melinewidth\u001b[0m\u001b[0;34m=\u001b[0m\u001b[0;36m1\u001b[0m\u001b[0;34m,\u001b[0m \u001b[0mmarkeredgewidth\u001b[0m\u001b[0;34m=\u001b[0m\u001b[0;36m2\u001b[0m\u001b[0;34m)\u001b[0m\u001b[0;34m\u001b[0m\u001b[0;34m\u001b[0m\u001b[0m\n",
      "\u001b[0;32m~/.local/lib/python3.10/site-packages/matplotlib/axes/_axes.py\u001b[0m in \u001b[0;36mplot\u001b[0;34m(self, scalex, scaley, data, *args, **kwargs)\u001b[0m\n\u001b[1;32m   1632\u001b[0m         \u001b[0mlines\u001b[0m \u001b[0;34m=\u001b[0m \u001b[0;34m[\u001b[0m\u001b[0;34m*\u001b[0m\u001b[0mself\u001b[0m\u001b[0;34m.\u001b[0m\u001b[0m_get_lines\u001b[0m\u001b[0;34m(\u001b[0m\u001b[0;34m*\u001b[0m\u001b[0margs\u001b[0m\u001b[0;34m,\u001b[0m \u001b[0mdata\u001b[0m\u001b[0;34m=\u001b[0m\u001b[0mdata\u001b[0m\u001b[0;34m,\u001b[0m \u001b[0;34m**\u001b[0m\u001b[0mkwargs\u001b[0m\u001b[0;34m)\u001b[0m\u001b[0;34m]\u001b[0m\u001b[0;34m\u001b[0m\u001b[0;34m\u001b[0m\u001b[0m\n\u001b[1;32m   1633\u001b[0m         \u001b[0;32mfor\u001b[0m \u001b[0mline\u001b[0m \u001b[0;32min\u001b[0m \u001b[0mlines\u001b[0m\u001b[0;34m:\u001b[0m\u001b[0;34m\u001b[0m\u001b[0;34m\u001b[0m\u001b[0m\n\u001b[0;32m-> 1634\u001b[0;31m             \u001b[0mself\u001b[0m\u001b[0;34m.\u001b[0m\u001b[0madd_line\u001b[0m\u001b[0;34m(\u001b[0m\u001b[0mline\u001b[0m\u001b[0;34m)\u001b[0m\u001b[0;34m\u001b[0m\u001b[0;34m\u001b[0m\u001b[0m\n\u001b[0m\u001b[1;32m   1635\u001b[0m         \u001b[0mself\u001b[0m\u001b[0;34m.\u001b[0m\u001b[0m_request_autoscale_view\u001b[0m\u001b[0;34m(\u001b[0m\u001b[0mscalex\u001b[0m\u001b[0;34m=\u001b[0m\u001b[0mscalex\u001b[0m\u001b[0;34m,\u001b[0m \u001b[0mscaley\u001b[0m\u001b[0;34m=\u001b[0m\u001b[0mscaley\u001b[0m\u001b[0;34m)\u001b[0m\u001b[0;34m\u001b[0m\u001b[0;34m\u001b[0m\u001b[0m\n\u001b[1;32m   1636\u001b[0m         \u001b[0;32mreturn\u001b[0m \u001b[0mlines\u001b[0m\u001b[0;34m\u001b[0m\u001b[0;34m\u001b[0m\u001b[0m\n",
      "\u001b[0;32m~/.local/lib/python3.10/site-packages/matplotlib/axes/_base.py\u001b[0m in \u001b[0;36madd_line\u001b[0;34m(self, line)\u001b[0m\n\u001b[1;32m   2286\u001b[0m             \u001b[0mline\u001b[0m\u001b[0;34m.\u001b[0m\u001b[0mset_clip_path\u001b[0m\u001b[0;34m(\u001b[0m\u001b[0mself\u001b[0m\u001b[0;34m.\u001b[0m\u001b[0mpatch\u001b[0m\u001b[0;34m)\u001b[0m\u001b[0;34m\u001b[0m\u001b[0;34m\u001b[0m\u001b[0m\n\u001b[1;32m   2287\u001b[0m \u001b[0;34m\u001b[0m\u001b[0m\n\u001b[0;32m-> 2288\u001b[0;31m         \u001b[0mself\u001b[0m\u001b[0;34m.\u001b[0m\u001b[0m_update_line_limits\u001b[0m\u001b[0;34m(\u001b[0m\u001b[0mline\u001b[0m\u001b[0;34m)\u001b[0m\u001b[0;34m\u001b[0m\u001b[0;34m\u001b[0m\u001b[0m\n\u001b[0m\u001b[1;32m   2289\u001b[0m         \u001b[0;32mif\u001b[0m \u001b[0;32mnot\u001b[0m \u001b[0mline\u001b[0m\u001b[0;34m.\u001b[0m\u001b[0mget_label\u001b[0m\u001b[0;34m(\u001b[0m\u001b[0;34m)\u001b[0m\u001b[0;34m:\u001b[0m\u001b[0;34m\u001b[0m\u001b[0;34m\u001b[0m\u001b[0m\n\u001b[1;32m   2290\u001b[0m             \u001b[0mline\u001b[0m\u001b[0;34m.\u001b[0m\u001b[0mset_label\u001b[0m\u001b[0;34m(\u001b[0m\u001b[0;34mf'_child{len(self._children)}'\u001b[0m\u001b[0;34m)\u001b[0m\u001b[0;34m\u001b[0m\u001b[0;34m\u001b[0m\u001b[0m\n",
      "\u001b[0;32m~/.local/lib/python3.10/site-packages/matplotlib/axes/_base.py\u001b[0m in \u001b[0;36m_update_line_limits\u001b[0;34m(self, line)\u001b[0m\n\u001b[1;32m   2309\u001b[0m         \u001b[0mFigures\u001b[0m \u001b[0mout\u001b[0m \u001b[0mthe\u001b[0m \u001b[0mdata\u001b[0m \u001b[0mlimit\u001b[0m \u001b[0mof\u001b[0m \u001b[0mthe\u001b[0m \u001b[0mgiven\u001b[0m \u001b[0mline\u001b[0m\u001b[0;34m,\u001b[0m \u001b[0mupdating\u001b[0m \u001b[0mself\u001b[0m\u001b[0;34m.\u001b[0m\u001b[0mdataLim\u001b[0m\u001b[0;34m.\u001b[0m\u001b[0;34m\u001b[0m\u001b[0;34m\u001b[0m\u001b[0m\n\u001b[1;32m   2310\u001b[0m         \"\"\"\n\u001b[0;32m-> 2311\u001b[0;31m         \u001b[0mpath\u001b[0m \u001b[0;34m=\u001b[0m \u001b[0mline\u001b[0m\u001b[0;34m.\u001b[0m\u001b[0mget_path\u001b[0m\u001b[0;34m(\u001b[0m\u001b[0;34m)\u001b[0m\u001b[0;34m\u001b[0m\u001b[0;34m\u001b[0m\u001b[0m\n\u001b[0m\u001b[1;32m   2312\u001b[0m         \u001b[0;32mif\u001b[0m \u001b[0mpath\u001b[0m\u001b[0;34m.\u001b[0m\u001b[0mvertices\u001b[0m\u001b[0;34m.\u001b[0m\u001b[0msize\u001b[0m \u001b[0;34m==\u001b[0m \u001b[0;36m0\u001b[0m\u001b[0;34m:\u001b[0m\u001b[0;34m\u001b[0m\u001b[0;34m\u001b[0m\u001b[0m\n\u001b[1;32m   2313\u001b[0m             \u001b[0;32mreturn\u001b[0m\u001b[0;34m\u001b[0m\u001b[0;34m\u001b[0m\u001b[0m\n",
      "\u001b[0;32m~/.local/lib/python3.10/site-packages/matplotlib/lines.py\u001b[0m in \u001b[0;36mget_path\u001b[0;34m(self)\u001b[0m\n\u001b[1;32m    997\u001b[0m         \u001b[0;34m\"\"\"Return the `~matplotlib.path.Path` associated with this line.\"\"\"\u001b[0m\u001b[0;34m\u001b[0m\u001b[0;34m\u001b[0m\u001b[0m\n\u001b[1;32m    998\u001b[0m         \u001b[0;32mif\u001b[0m \u001b[0mself\u001b[0m\u001b[0;34m.\u001b[0m\u001b[0m_invalidy\u001b[0m \u001b[0;32mor\u001b[0m \u001b[0mself\u001b[0m\u001b[0;34m.\u001b[0m\u001b[0m_invalidx\u001b[0m\u001b[0;34m:\u001b[0m\u001b[0;34m\u001b[0m\u001b[0;34m\u001b[0m\u001b[0m\n\u001b[0;32m--> 999\u001b[0;31m             \u001b[0mself\u001b[0m\u001b[0;34m.\u001b[0m\u001b[0mrecache\u001b[0m\u001b[0;34m(\u001b[0m\u001b[0;34m)\u001b[0m\u001b[0;34m\u001b[0m\u001b[0;34m\u001b[0m\u001b[0m\n\u001b[0m\u001b[1;32m   1000\u001b[0m         \u001b[0;32mreturn\u001b[0m \u001b[0mself\u001b[0m\u001b[0;34m.\u001b[0m\u001b[0m_path\u001b[0m\u001b[0;34m\u001b[0m\u001b[0;34m\u001b[0m\u001b[0m\n\u001b[1;32m   1001\u001b[0m \u001b[0;34m\u001b[0m\u001b[0m\n",
      "\u001b[0;32m~/.local/lib/python3.10/site-packages/matplotlib/lines.py\u001b[0m in \u001b[0;36mrecache\u001b[0;34m(self, always)\u001b[0m\n\u001b[1;32m    655\u001b[0m         \u001b[0;32mif\u001b[0m \u001b[0malways\u001b[0m \u001b[0;32mor\u001b[0m \u001b[0mself\u001b[0m\u001b[0;34m.\u001b[0m\u001b[0m_invalidy\u001b[0m\u001b[0;34m:\u001b[0m\u001b[0;34m\u001b[0m\u001b[0;34m\u001b[0m\u001b[0m\n\u001b[1;32m    656\u001b[0m             \u001b[0myconv\u001b[0m \u001b[0;34m=\u001b[0m \u001b[0mself\u001b[0m\u001b[0;34m.\u001b[0m\u001b[0mconvert_yunits\u001b[0m\u001b[0;34m(\u001b[0m\u001b[0mself\u001b[0m\u001b[0;34m.\u001b[0m\u001b[0m_yorig\u001b[0m\u001b[0;34m)\u001b[0m\u001b[0;34m\u001b[0m\u001b[0;34m\u001b[0m\u001b[0m\n\u001b[0;32m--> 657\u001b[0;31m             \u001b[0my\u001b[0m \u001b[0;34m=\u001b[0m \u001b[0m_to_unmasked_float_array\u001b[0m\u001b[0;34m(\u001b[0m\u001b[0myconv\u001b[0m\u001b[0;34m)\u001b[0m\u001b[0;34m.\u001b[0m\u001b[0mravel\u001b[0m\u001b[0;34m(\u001b[0m\u001b[0;34m)\u001b[0m\u001b[0;34m\u001b[0m\u001b[0;34m\u001b[0m\u001b[0m\n\u001b[0m\u001b[1;32m    658\u001b[0m         \u001b[0;32melse\u001b[0m\u001b[0;34m:\u001b[0m\u001b[0;34m\u001b[0m\u001b[0;34m\u001b[0m\u001b[0m\n\u001b[1;32m    659\u001b[0m             \u001b[0my\u001b[0m \u001b[0;34m=\u001b[0m \u001b[0mself\u001b[0m\u001b[0;34m.\u001b[0m\u001b[0m_y\u001b[0m\u001b[0;34m\u001b[0m\u001b[0;34m\u001b[0m\u001b[0m\n",
      "\u001b[0;32m~/.local/lib/python3.10/site-packages/matplotlib/cbook/__init__.py\u001b[0m in \u001b[0;36m_to_unmasked_float_array\u001b[0;34m(x)\u001b[0m\n\u001b[1;32m   1296\u001b[0m         \u001b[0;32mreturn\u001b[0m \u001b[0mnp\u001b[0m\u001b[0;34m.\u001b[0m\u001b[0mma\u001b[0m\u001b[0;34m.\u001b[0m\u001b[0masarray\u001b[0m\u001b[0;34m(\u001b[0m\u001b[0mx\u001b[0m\u001b[0;34m,\u001b[0m \u001b[0mfloat\u001b[0m\u001b[0;34m)\u001b[0m\u001b[0;34m.\u001b[0m\u001b[0mfilled\u001b[0m\u001b[0;34m(\u001b[0m\u001b[0mnp\u001b[0m\u001b[0;34m.\u001b[0m\u001b[0mnan\u001b[0m\u001b[0;34m)\u001b[0m\u001b[0;34m\u001b[0m\u001b[0;34m\u001b[0m\u001b[0m\n\u001b[1;32m   1297\u001b[0m     \u001b[0;32melse\u001b[0m\u001b[0;34m:\u001b[0m\u001b[0;34m\u001b[0m\u001b[0;34m\u001b[0m\u001b[0m\n\u001b[0;32m-> 1298\u001b[0;31m         \u001b[0;32mreturn\u001b[0m \u001b[0mnp\u001b[0m\u001b[0;34m.\u001b[0m\u001b[0masarray\u001b[0m\u001b[0;34m(\u001b[0m\u001b[0mx\u001b[0m\u001b[0;34m,\u001b[0m \u001b[0mfloat\u001b[0m\u001b[0;34m)\u001b[0m\u001b[0;34m\u001b[0m\u001b[0;34m\u001b[0m\u001b[0m\n\u001b[0m\u001b[1;32m   1299\u001b[0m \u001b[0;34m\u001b[0m\u001b[0m\n\u001b[1;32m   1300\u001b[0m \u001b[0;34m\u001b[0m\u001b[0m\n",
      "\u001b[0;32m~/.local/lib/python3.10/site-packages/uncertainties/core.py\u001b[0m in \u001b[0;36mraise_error\u001b[0;34m(self)\u001b[0m\n\u001b[1;32m   2712\u001b[0m     \u001b[0;32mfor\u001b[0m \u001b[0mcoercion_type\u001b[0m \u001b[0;32min\u001b[0m \u001b[0;34m(\u001b[0m\u001b[0;34m'complex'\u001b[0m\u001b[0;34m,\u001b[0m \u001b[0;34m'int'\u001b[0m\u001b[0;34m,\u001b[0m \u001b[0;34m'long'\u001b[0m\u001b[0;34m,\u001b[0m \u001b[0;34m'float'\u001b[0m\u001b[0;34m)\u001b[0m\u001b[0;34m:\u001b[0m\u001b[0;34m\u001b[0m\u001b[0;34m\u001b[0m\u001b[0m\n\u001b[1;32m   2713\u001b[0m         \u001b[0;32mdef\u001b[0m \u001b[0mraise_error\u001b[0m\u001b[0;34m(\u001b[0m\u001b[0mself\u001b[0m\u001b[0;34m)\u001b[0m\u001b[0;34m:\u001b[0m\u001b[0;34m\u001b[0m\u001b[0;34m\u001b[0m\u001b[0m\n\u001b[0;32m-> 2714\u001b[0;31m             raise TypeError(\"can't convert an affine function (%s)\"\n\u001b[0m\u001b[1;32m   2715\u001b[0m                             \u001b[0;34m' to %s; use x.nominal_value'\u001b[0m\u001b[0;34m\u001b[0m\u001b[0;34m\u001b[0m\u001b[0m\n\u001b[1;32m   2716\u001b[0m                             \u001b[0;31m# In case AffineScalarFunc is sub-classed:\u001b[0m\u001b[0;34m\u001b[0m\u001b[0;34m\u001b[0m\u001b[0m\n",
      "\u001b[0;31mTypeError\u001b[0m: can't convert an affine function (<class 'uncertainties.core.AffineScalarFunc'>) to float; use x.nominal_value"
     ]
    },
    {
     "data": {
      "image/png": "[encoded data removed]",
      "text/plain": [
       "<Figure size 1152x360 with 2 Axes>"
      ]
     },
     "metadata": {
      "needs_background": "light"
     },
     "output_type": "display_data"
    }
   ],
   "source": [
    "stop_volt = [stop_voltage_plot(data[i][1], data[i][2], f\"Photoelectric Effect with λ = {data[i][0]} nm\",\n",
    "                               initial_params[i][0], initial_params[i][1]) for i in range(len(data))]"
   ]
  },
  {
   "cell_type": "code",
   "execution_count": null,
   "id": "792c1cf8-0fc9-4f24-a4cb-27dc3a57bad2",
   "metadata": {},
   "outputs": [],
   "source": []
  },
  {
   "cell_type": "code",
   "execution_count": 17,
   "id": "31fb22cc-679a-46fe-b3e0-5856a912aa6a",
   "metadata": {},
   "outputs": [
    {
     "data": {
      "text/plain": [
       "1.1+/-0"
      ]
     },
     "execution_count": 17,
     "metadata": {},
     "output_type": "execute_result"
    }
   ],
   "source": [
    "ufloat(float(1.1), 0)"
   ]
  },
  {
   "cell_type": "code",
   "execution_count": null,
   "id": "3dd6662f-d8ed-4968-bb2b-830b2d5e703d",
   "metadata": {},
   "outputs": [],
   "source": []
  }
 ],
 "metadata": {
  "kernelspec": {
   "display_name": "Python 3 (ipykernel)",
   "language": "python",
   "name": "python3"
  },
  "language_info": {
   "codemirror_mode": {
    "name": "ipython",
    "version": 3
   },
   "file_extension": ".py",
   "mimetype": "text/x-python",
   "name": "python",
   "nbconvert_exporter": "python",
   "pygments_lexer": "ipython3",
   "version": "3.10.8"
  }
 },
 "nbformat": 4,
 "nbformat_minor": 5
}
