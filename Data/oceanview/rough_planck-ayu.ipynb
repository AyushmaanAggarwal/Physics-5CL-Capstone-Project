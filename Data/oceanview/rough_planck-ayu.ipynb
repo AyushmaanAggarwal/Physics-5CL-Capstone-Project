{
 "cells": [
  {
   "cell_type": "code",
   "execution_count": 1,
   "id": "d9b9c01c-01a1-476c-a77e-a05e513f680a",
   "metadata": {},
   "outputs": [],
   "source": [
    "import pandas as pd\n",
    "import numpy as np\n",
    "import matplotlib.pyplot as plt"
   ]
  },
  {
   "cell_type": "code",
   "execution_count": 2,
   "id": "a0038296-9102-467b-8594-fda908866a28",
   "metadata": {},
   "outputs": [],
   "source": [
    "df = pd.read_csv(\"TRIAL 1 480.txt\")"
   ]
  },
  {
   "cell_type": "code",
   "execution_count": 3,
   "id": "5a16ed37-c7d5-45d4-a1b6-96c6a5f99042",
   "metadata": {},
   "outputs": [],
   "source": [
    "with open('TRIAL 1 450 ACT.txt') as f:\n",
    "    lines = f.readlines()\n",
    "#lines\n",
    "# lines[1].index(\"\\t\")"
   ]
  },
  {
   "cell_type": "code",
   "execution_count": 4,
   "id": "2d4c6a6b-3130-476a-bd49-f5fac4985a53",
   "metadata": {},
   "outputs": [
    {
     "name": "stdout",
     "output_type": "stream",
     "text": [
      "98.92\n",
      "['-0.21' '-2.56' '0.55' '0.85' '1.37' '1.88' '-0.29' '-0.11' '1.44'\n",
      " '-3.16' '-0.93' '-0.19' '0.1' '1.01' '1.77' '-2.76' '-0.9' '-3.09' '0.3'\n",
      " '-3.59' '-1.07' '2.15' '1.82' '0.82' '2.6' '-0.05' '1.24' '2.63' '4.53'\n",
      " '4.01' '4.1' '-0.63' '2.51' '0.62' '0.69' '3' '-0.25' '3.38' '7.62'\n",
      " '4.86' '0.85' '3.38' '3.66' '6.52' '5.33' '5.85' '6.55' '4.84' '4.61'\n",
      " '4.6' '3.12' '6.1' '4.52' '9.19' '10.43' '12.93' '10.5' '10.18' '11.68'\n",
      " '14.47' '13.09' '18.07' '20' '24.51' '36.04' '45.7' '58.93' '83' '106.83'\n",
      " '129.56' '139.32' '143.97' '143.89' '154.38' '164.48' '163.91' '177.1'\n",
      " '179.29' '194.61' '202.21' '198.55' '214.13' '222.43' '233.63' '239.61'\n",
      " '257.95' '258.66' '277.35' '280.61' '289.82' '295.37' '303.44' '322.19'\n",
      " '333.72' '330.7' '335.72' '340.69' '352.31' '356.01' '357.28' '364.05'\n",
      " '354.89' '374.2' '374.82' '386.81' '382.69' '383.72' '394.29' '385.85'\n",
      " '411.31' '395.57' '407.66' '408.27' '420.39' '437.11' '434.75' '443.95'\n",
      " '453.97' '467.82' '481.07' '501.14' '512.57' '521.14' '531.4' '566.66'\n",
      " '554.77' '564.93' '559.75' '606.25' '638.4' '632.49' '691.32' '687.67'\n",
      " '700.9' '716.18' '703.58' '712.56' '675.26' '690.96' '707.54' '674.01'\n",
      " '612.14' '611.64' '616.94' '605.11' '624.7' '632.76' '635.91' '629.43'\n",
      " '606.75' '562.32' '528.83' '499.91' '528.09' '493.17' '399.31' '289.09'\n",
      " '201.12' '155.04' '124.24' '107.75' '98.92' '96.77' '92.81' '89.95'\n",
      " '86.8' '79.83' '85.57' '81.5' '80.65' '78.22' '75.77' '71.96' '72.34'\n",
      " '72.58' '73.25' '69.39' '69.4' '63.85' '66.84' '62.98' '72.24' '68.57'\n",
      " '59.07' '67.01' '68.7' '66.21' '64.84' '65.84' '64.34' '68.07' '57.76'\n",
      " '62.86' '62.74' '62.8' '59.04' '60.68' '57.04' '63.53' '58.29' '61.91'\n",
      " '55.65' '57.58' '55.65' '54.95' '62.31' '55.19' '45.17' '50.01' '52.36'\n",
      " '49.58' '49.03' '50.75' '50.52' '54.36' '49.46' '47.92' '45.84' '51.18'\n",
      " '40.87' '46.01' '43.42' '44.8' '43.01' '45.38' '42.02' '39.03' '39.96'\n",
      " '38.03' '35.73' '38.19' '41.27' '36.87' '34.59' '33.98' '36.21' '33.49'\n",
      " '34.38' '31.13' '31.25' '33.95' '39.15' '32.31' '33.29' '26.43' '31.99'\n",
      " '27.76' '29.9' '26.58' '25.83' '30.58' '23.06' '30.82' '29.42' '28.85'\n",
      " '26.31' '26.18' '23.6' '25.62' '29.94' '25.26' '24.84' '20.36' '19.22'\n",
      " '17.88' '22.09' '22.54' '21.18' '21.62' '23.1' '18.22' '21.28' '21.91'\n",
      " '20.91' '21.4' '19.37' '19.86' '19.84' '20.6' '18.96' '15.96' '14.62'\n",
      " '14.77' '17.26' '19.98' '20.77' '15.83' '11.99' '17.26' '12.67' '12.55'\n",
      " '15.73' '13.32' '9.03' '15.49' '12.02' '13.81' '15.2' '11.49' '13.04'\n",
      " '11.78' '9.19' '11.26' '12.54' '7.44' '9.17' '10.8' '11.83' '13.74'\n",
      " '9.52' '5.65' '7.88' '7.65' '11.38' '10.69' '6.53' '7.34' '13.19' '7.71'\n",
      " '10.26' '5.5' '6.98' '6.81' '7.65' '4.97' '4.19' '4.77' '5.23' '3.78'\n",
      " '5.77' '2.36' '6.02' '4.65' '5.43' '5.52' '2.27' '4.91' '1.54' '4.26'\n",
      " '3.47' '4.02' '1.88' '-0.16' '1.89' '4.88' '2.83' '2.56' '1.77' '3.41'\n",
      " '2.94' '2.05' '1.36' '0.57' '1.91' '1.1' '4.45' '-1.91' '1.9' '3.65'\n",
      " '-1.16' '2.76' '3.67' '1.17' '4.89' '3.04' '0.09' '0.4' '0.69' '0.4'\n",
      " '1.47' '5.82' '0.74' '-0.59' '0.36' '4.56' '1.38' '1.34' '-0.14' '1.09'\n",
      " '4.31' '0.18' '-0.91' '3.53' '0.65' '1.25' '-2.18' '0.72' '0.88' '-3'\n",
      " '3.85' '-0.13' '7.04' '-0.36' '1.52' '0.83' '-0.77' '2.05' '2.71' '-0.62'\n",
      " '1.1' '-1.38' '2.62' '-1.26' '-0.73' '2.13' '0.25' '0.2' '0.38' '-2.42'\n",
      " '2.81' '0.92' '0.13' '-0.99' '-2.92' '-2.73' '2.27' '1.69' '0.71' '1.3'\n",
      " '-0.23' '1.4' '1.56' '-0' '0.86' '-1.18' '-2.45' '-1.21' '0.25' '-1.41'\n",
      " '-2.62' '0.89' '2.34' '-2.3' '-1.1' '-2.21' '-1.2' '-2.5' '-1.62' '-0.68'\n",
      " '0.73' '-2.96' '0.94' '-0.86' '2.86' '-4.57' '0.92' '0.19' '0.96' '-0.68'\n",
      " '-2.13' '-1.98' '2.89' '3.84' '0.01' '-1.29' '2.06' '6.04' '-2.24'\n",
      " '-0.16' '0.04' '0.41' '0.01' '-1.9' '1.5' '-1.75' '-1.12' '0.46' '0.4'\n",
      " '2.33' '0.2' '0.33' '2.85' '0.19' '-0.22' '-0.11' '0.25' '-0.47' '1.9'\n",
      " '2.14' '-0.3' '-1.58' '0.18' '-2.09' '0.19' '0.78' '-1.48' '2.29' '-0.11'\n",
      " '2.91' '-0.5' '-3.17' '-0.51' '-2.83' '-2.09' '-1.41' '0.5' '-0.32'\n",
      " '-0.15' '1.93' '2.15' '-1.33' '-1.21' '-3.37' '-1.87' '-0.57' '1.14'\n",
      " '1.91' '-3.26' '-1.24' '-2.26' '4.92' '1.27' '1.34' '-1.69' '0.82' '3.82'\n",
      " '1.76' '-1' '-3.22' '1.08' '-0.1' '2.05' '-0.24' '-0' '2.37' '0.19'\n",
      " '1.83' '0.85' '-0.79' '-0.04' '-1.95' '3.05' '-2.27' '0.8' '0.86' '0.7'\n",
      " '9.9' '2.43' '2.25' '-0.13' '1.81' '1.11' '0.96' '0.93' '-3.57' '0.08'\n",
      " '-1.2' '-3.08' '0.62' '0.03' '0.74' '1.02' '0.76' '-1.9' '0.85' '-2.29'\n",
      " '-1.38' '-0.54' '2.03' '-0.07' '1.15' '3.78' '1.28' '-0.69' '-1.35'\n",
      " '0.85' '2.99' '0.91' '0.59' '0.98' '-1.02' '1.43' '1.09' '-2.18' '-2.26'\n",
      " '1.6' '3.1' '0.39' '2.85' '-0.72' '0.99' '0.44' '-0.81' '2.89' '-0.79'\n",
      " '-0.83' '-1.18' '1.74' '0.85' '0.29' '-2.26' '-1.7' '-0.73' '-0.98'\n",
      " '-1.99' '3.86' '-0.46' '-0.71' '1.19' '-0.83' '-1.48' '0.71' '-2.08'\n",
      " '-0.94' '-2.33' '-2.76' '1.55' '-1.75' '1.17' '-5.23' '-0.07' '-1.44'\n",
      " '-1.65' '-0.15' '1.25' '-1.16' '0.45' '-1.14' '2.7' '-0.47' '-2.76'\n",
      " '2.12' '0.26' '0.51' '-0.56' '0.14' '1.83' '-0.05' '-2.13' '-12.93'\n",
      " '1.46' '-3.24' '1.59' '-3.17' '-2.39' '-4.16' '-0.56' '3.76' '5.13'\n",
      " '0.24' '0.61' '-1.72' '1.62' '-1.2' '-5.18' '0.71' '0.85' '-2.74' '-0.69'\n",
      " '-0.02' '-1.67']\n"
     ]
    },
    {
     "name": "stderr",
     "output_type": "stream",
     "text": [
      "/tmp/ipykernel_112941/2964747177.py:11: DeprecationWarning: `np.float` is a deprecated alias for the builtin `float`. To silence this warning, use `float` by itself. Doing this will not modify any behavior and is safe. If you specifically wanted the numpy scalar type, use `np.float64` here.\n",
      "Deprecated in NumPy 1.20; for more details and guidance: https://numpy.org/devdocs/release/1.20.0-notes.html#deprecations\n",
      "  plt.plot(lam, inten.astype(np.float), 'r.')\n"
     ]
    },
    {
     "data": {
      "text/plain": [
       "[<matplotlib.lines.Line2D at 0x7fc7eadd76d0>]"
      ]
     },
     "execution_count": 4,
     "metadata": {},
     "output_type": "execute_result"
    },
    {
     "data": {
      "image/png": "[encoded data removed]",
      "text/plain": [
       "<Figure size 432x288 with 1 Axes>"
      ]
     },
     "metadata": {
      "needs_background": "light"
     },
     "output_type": "display_data"
    }
   ],
   "source": [
    "#start = lines.index('Capture_4')+1\n",
    "data = lines[1:]\n",
    "lam = np.array([float(data[i][:data[i].index(\"\\t\")]) for i in range(len(data))])\n",
    "inten = np.array([data[i][data[i].index(\"\\t\")+1:-2] for i in range(len(data))])\n",
    "print(max(inten))\n",
    "#print(lam[np.where(inten=='')], inten[np.where(inten!='')])\n",
    "lam = lam[np.where(inten!='')]\n",
    "inten = inten[np.where(inten!='')]\n",
    "\n",
    "print(inten)\n",
    "plt.plot(lam, inten.astype(np.float), 'r.')\n",
    "# plt.plot(lam, inten, 'r.')"
   ]
  },
  {
   "cell_type": "code",
   "execution_count": 5,
   "id": "24ff97b7-d4da-421e-ba6e-08b32e52127d",
   "metadata": {},
   "outputs": [],
   "source": [
    "# SMOOTH\n",
    "import numpy\n",
    "def smooth(x,window_len=11,window='hanning'):\n",
    "        if x.ndim != 1:\n",
    "                raise ValueError(\"smooth only accepts 1 dimension arrays.\")\n",
    "        if x.size < window_len:\n",
    "                raise ValueError(\"Input vector needs to be bigger than window size.\")\n",
    "        if window_len<3:\n",
    "                return x\n",
    "        if not window in ['flat', 'hanning', 'hamming', 'bartlett', 'blackman']:\n",
    "                raise ValueError(\"Window is on of 'flat', 'hanning', 'hamming', 'bartlett', 'blackman'\")\n",
    "        s=numpy.r_[2*x[0]-x[window_len-1::-1],x,2*x[-1]-x[-1:-window_len:-1]]\n",
    "        if window == 'flat': #moving average\n",
    "                w=numpy.ones(window_len,'d')\n",
    "        else:  \n",
    "                w=eval('numpy.'+window+'(window_len)')\n",
    "        y=numpy.convolve(w/w.sum(),s,mode='same')\n",
    "        return y[window_len:-window_len+1]"
   ]
  },
  {
   "cell_type": "code",
   "execution_count": 6,
   "id": "09230c2c-fbce-4ee0-a087-1ccb86c80ff9",
   "metadata": {},
   "outputs": [
    {
     "ename": "UFuncTypeError",
     "evalue": "ufunc 'subtract' did not contain a loop with signature matching types (dtype('<U10'), dtype('<U6')) -> None",
     "output_type": "error",
     "traceback": [
      "\u001b[0;31m---------------------------------------------------------------------------\u001b[0m",
      "\u001b[0;31mUFuncTypeError\u001b[0m                            Traceback (most recent call last)",
      "\u001b[0;32m/tmp/ipykernel_112941/1270763644.py\u001b[0m in \u001b[0;36m<module>\u001b[0;34m\u001b[0m\n\u001b[0;32m----> 1\u001b[0;31m \u001b[0mplt\u001b[0m\u001b[0;34m.\u001b[0m\u001b[0mplot\u001b[0m\u001b[0;34m(\u001b[0m\u001b[0mlam\u001b[0m\u001b[0;34m,\u001b[0m \u001b[0msmooth\u001b[0m\u001b[0;34m(\u001b[0m\u001b[0minten\u001b[0m\u001b[0;34m)\u001b[0m\u001b[0;34m,\u001b[0m \u001b[0;34m\"r.\"\u001b[0m\u001b[0;34m)\u001b[0m\u001b[0;34m\u001b[0m\u001b[0;34m\u001b[0m\u001b[0m\n\u001b[0m",
      "\u001b[0;32m/tmp/ipykernel_112941/3720638481.py\u001b[0m in \u001b[0;36msmooth\u001b[0;34m(x, window_len, window)\u001b[0m\n\u001b[1;32m     10\u001b[0m         \u001b[0;32mif\u001b[0m \u001b[0;32mnot\u001b[0m \u001b[0mwindow\u001b[0m \u001b[0;32min\u001b[0m \u001b[0;34m[\u001b[0m\u001b[0;34m'flat'\u001b[0m\u001b[0;34m,\u001b[0m \u001b[0;34m'hanning'\u001b[0m\u001b[0;34m,\u001b[0m \u001b[0;34m'hamming'\u001b[0m\u001b[0;34m,\u001b[0m \u001b[0;34m'bartlett'\u001b[0m\u001b[0;34m,\u001b[0m \u001b[0;34m'blackman'\u001b[0m\u001b[0;34m]\u001b[0m\u001b[0;34m:\u001b[0m\u001b[0;34m\u001b[0m\u001b[0;34m\u001b[0m\u001b[0m\n\u001b[1;32m     11\u001b[0m                 \u001b[0;32mraise\u001b[0m \u001b[0mValueError\u001b[0m\u001b[0;34m(\u001b[0m\u001b[0;34m\"Window is on of 'flat', 'hanning', 'hamming', 'bartlett', 'blackman'\"\u001b[0m\u001b[0;34m)\u001b[0m\u001b[0;34m\u001b[0m\u001b[0;34m\u001b[0m\u001b[0m\n\u001b[0;32m---> 12\u001b[0;31m         \u001b[0ms\u001b[0m\u001b[0;34m=\u001b[0m\u001b[0mnumpy\u001b[0m\u001b[0;34m.\u001b[0m\u001b[0mr_\u001b[0m\u001b[0;34m[\u001b[0m\u001b[0;36m2\u001b[0m\u001b[0;34m*\u001b[0m\u001b[0mx\u001b[0m\u001b[0;34m[\u001b[0m\u001b[0;36m0\u001b[0m\u001b[0;34m]\u001b[0m\u001b[0;34m-\u001b[0m\u001b[0mx\u001b[0m\u001b[0;34m[\u001b[0m\u001b[0mwindow_len\u001b[0m\u001b[0;34m-\u001b[0m\u001b[0;36m1\u001b[0m\u001b[0;34m:\u001b[0m\u001b[0;34m:\u001b[0m\u001b[0;34m-\u001b[0m\u001b[0;36m1\u001b[0m\u001b[0;34m]\u001b[0m\u001b[0;34m,\u001b[0m\u001b[0mx\u001b[0m\u001b[0;34m,\u001b[0m\u001b[0;36m2\u001b[0m\u001b[0;34m*\u001b[0m\u001b[0mx\u001b[0m\u001b[0;34m[\u001b[0m\u001b[0;34m-\u001b[0m\u001b[0;36m1\u001b[0m\u001b[0;34m]\u001b[0m\u001b[0;34m-\u001b[0m\u001b[0mx\u001b[0m\u001b[0;34m[\u001b[0m\u001b[0;34m-\u001b[0m\u001b[0;36m1\u001b[0m\u001b[0;34m:\u001b[0m\u001b[0;34m-\u001b[0m\u001b[0mwindow_len\u001b[0m\u001b[0;34m:\u001b[0m\u001b[0;34m-\u001b[0m\u001b[0;36m1\u001b[0m\u001b[0;34m]\u001b[0m\u001b[0;34m]\u001b[0m\u001b[0;34m\u001b[0m\u001b[0;34m\u001b[0m\u001b[0m\n\u001b[0m\u001b[1;32m     13\u001b[0m         \u001b[0;32mif\u001b[0m \u001b[0mwindow\u001b[0m \u001b[0;34m==\u001b[0m \u001b[0;34m'flat'\u001b[0m\u001b[0;34m:\u001b[0m \u001b[0;31m#moving average\u001b[0m\u001b[0;34m\u001b[0m\u001b[0;34m\u001b[0m\u001b[0m\n\u001b[1;32m     14\u001b[0m                 \u001b[0mw\u001b[0m\u001b[0;34m=\u001b[0m\u001b[0mnumpy\u001b[0m\u001b[0;34m.\u001b[0m\u001b[0mones\u001b[0m\u001b[0;34m(\u001b[0m\u001b[0mwindow_len\u001b[0m\u001b[0;34m,\u001b[0m\u001b[0;34m'd'\u001b[0m\u001b[0;34m)\u001b[0m\u001b[0;34m\u001b[0m\u001b[0;34m\u001b[0m\u001b[0m\n",
      "\u001b[0;31mUFuncTypeError\u001b[0m: ufunc 'subtract' did not contain a loop with signature matching types (dtype('<U10'), dtype('<U6')) -> None"
     ]
    }
   ],
   "source": [
    "plt.plot(lam, smooth(inten), \"r.\")"
   ]
  },
  {
   "cell_type": "code",
   "execution_count": null,
   "id": "6be43f8c-0427-4bd9-9773-f7117023c55b",
   "metadata": {},
   "outputs": [],
   "source": [
    "max1 = max(inten)"
   ]
  },
  {
   "cell_type": "code",
   "execution_count": null,
   "id": "03e54845-c698-47ea-aa5c-bbd1af8fb0cd",
   "metadata": {},
   "outputs": [],
   "source": [
    "lams = sorted(np.array([500, 480, 450, 520, 530, 550, 575, 565, 540, 585, 600]))\n",
    "print(len(lams))\n",
    "def get_inten(lamd):\n",
    "    print(lamd)\n",
    "    with open('TRIAL 1 ' + str(lamd) + '.txt') as f:\n",
    "        lines = f.readlines()\n",
    "    start = lines.index('>>>>>Begin Spectral Data<<<<<\\n')+1\n",
    "    data = lines[start:]\n",
    "    lam = np.array([float(data[i][:data[i].index(\"\\t\")]) for i in range(len(data))])\n",
    "    inten = np.array([(data[i][data[i].index(\"\\t\")+1:data[i].index(\"\\n\")]) for i in range(len(data))])\n",
    "    lam = lam[np.where(inten!='')].astype(np.float)\n",
    "    inten = (inten[np.where(inten!='')].astype(np.float))\n",
    "    plt.plot(lam, inten, 'r.')\n",
    "    plt.title(f\"Intensity vs. Wavelength for Slit at {lamd} nm\")\n",
    "    plt.xlabel(\"Wavelength (nm)\")\n",
    "    plt.ylabel(\"Intensity (Photon Counts)\")\n",
    "    plt.show()\n",
    "\n",
    "    index = np.where(inten == max(inten))[0][0]\n",
    "    print(index)\n",
    "    erri = np.std(inten[index-2:index+2])\n",
    "    errl = np.std(lam[np.where(abs(inten)>0.5*max(inten))])\n",
    "    print(erri, errl)\n",
    "    return lam[index], inten[index], erri, errl"
   ]
  },
  {
   "cell_type": "code",
   "execution_count": null,
   "id": "e8da71c0-ca13-44fe-814d-652929e51459",
   "metadata": {},
   "outputs": [],
   "source": [
    "intensities = []\n",
    "newlams = []\n",
    "erri = []\n",
    "errl = []\n",
    "for lam in lams:\n",
    "    getting = get_inten(lam)\n",
    "    intensities.append(getting[1])\n",
    "    newlams.append(getting[0])\n",
    "    errl.append(getting[2])\n",
    "    erri.append(getting[3])"
   ]
  },
  {
   "cell_type": "code",
   "execution_count": null,
   "id": "6487817e-3287-40b9-8773-20f63202f706",
   "metadata": {},
   "outputs": [],
   "source": [
    "intensities"
   ]
  },
  {
   "cell_type": "code",
   "execution_count": null,
   "id": "63a4f0b3-241f-4429-8b0e-a8e1cc9957b9",
   "metadata": {},
   "outputs": [],
   "source": [
    "#plt.plot(newlams, intensities)\n",
    "\n",
    "newlams, intensities = zip(*sorted(zip(newlams, intensities)))\n",
    "plt.errorbar(newlams, intensities, xerr=errl, yerr=erri, fmt=\"r.\")\n",
    "plt.plot(newlams, intensities, \"k\")\n",
    "plt.title(\"Flux vs. Wavelength for LED Spectrum\")\n",
    "plt.xlabel(\"Wavelength\")\n",
    "plt.ylabel(\"Flux (Photon Counts)\")"
   ]
  },
  {
   "cell_type": "code",
   "execution_count": 8,
   "id": "7f5672d2-a13b-4d56-9ab1-c1ead9fb0e98",
   "metadata": {},
   "outputs": [
    {
     "ename": "NameError",
     "evalue": "name 'newlams' is not defined",
     "output_type": "error",
     "traceback": [
      "\u001b[0;31m---------------------------------------------------------------------------\u001b[0m",
      "\u001b[0;31mNameError\u001b[0m                                 Traceback (most recent call last)",
      "\u001b[0;32m/tmp/ipykernel_112941/2534149469.py\u001b[0m in \u001b[0;36m<module>\u001b[0;34m\u001b[0m\n\u001b[1;32m      1\u001b[0m \u001b[0;32mfrom\u001b[0m \u001b[0mscipy\u001b[0m \u001b[0;32mimport\u001b[0m \u001b[0minterpolate\u001b[0m\u001b[0;34m\u001b[0m\u001b[0;34m\u001b[0m\u001b[0m\n\u001b[0;32m----> 2\u001b[0;31m \u001b[0mprint\u001b[0m\u001b[0;34m(\u001b[0m\u001b[0mlen\u001b[0m\u001b[0;34m(\u001b[0m\u001b[0mnewlams\u001b[0m\u001b[0;34m)\u001b[0m\u001b[0;34m,\u001b[0m \u001b[0mlen\u001b[0m\u001b[0;34m(\u001b[0m\u001b[0mintensities\u001b[0m\u001b[0;34m)\u001b[0m\u001b[0;34m)\u001b[0m\u001b[0;34m\u001b[0m\u001b[0;34m\u001b[0m\u001b[0m\n\u001b[0m\u001b[1;32m      3\u001b[0m \u001b[0mprint\u001b[0m\u001b[0;34m(\u001b[0m\u001b[0mtype\u001b[0m\u001b[0;34m(\u001b[0m\u001b[0mnewlams\u001b[0m\u001b[0;34m[\u001b[0m\u001b[0;36m0\u001b[0m\u001b[0;34m]\u001b[0m\u001b[0;34m)\u001b[0m\u001b[0;34m)\u001b[0m\u001b[0;34m\u001b[0m\u001b[0;34m\u001b[0m\u001b[0m\n\u001b[1;32m      4\u001b[0m \u001b[0mprint\u001b[0m\u001b[0;34m(\u001b[0m\u001b[0mtype\u001b[0m\u001b[0;34m(\u001b[0m\u001b[0mintensities\u001b[0m\u001b[0;34m)\u001b[0m\u001b[0;34m)\u001b[0m\u001b[0;34m\u001b[0m\u001b[0;34m\u001b[0m\u001b[0m\n\u001b[1;32m      5\u001b[0m \u001b[0mprint\u001b[0m\u001b[0;34m(\u001b[0m\u001b[0mnp\u001b[0m\u001b[0;34m.\u001b[0m\u001b[0mtranspose\u001b[0m\u001b[0;34m(\u001b[0m\u001b[0mnp\u001b[0m\u001b[0;34m.\u001b[0m\u001b[0marray\u001b[0m\u001b[0;34m(\u001b[0m\u001b[0mnewlams\u001b[0m\u001b[0;34m)\u001b[0m\u001b[0;34m)\u001b[0m\u001b[0;34m[\u001b[0m\u001b[0;36m0\u001b[0m\u001b[0;34m]\u001b[0m\u001b[0;34m)\u001b[0m\u001b[0;34m\u001b[0m\u001b[0;34m\u001b[0m\u001b[0m\n",
      "\u001b[0;31mNameError\u001b[0m: name 'newlams' is not defined"
     ]
    }
   ],
   "source": [
    "from scipy import interpolate\n",
    "print(len(newlams), len(intensities))\n",
    "print(type(newlams[0]))\n",
    "print(type(intensities))\n",
    "print(np.transpose(np.array(newlams))[0])\n",
    "f = interpolate.interp1d(np.transpose(np.array(newlams))[0], np.transpose(np.array(intensities))[0])"
   ]
  },
  {
   "cell_type": "code",
   "execution_count": null,
   "id": "097f045f-643b-446d-831f-00792aafab2a",
   "metadata": {},
   "outputs": [],
   "source": [
    "approx_inten = [160, 425, 1200, 850, 1100, 1600, 1600, 1400, 1050, 1100, 900]\n",
    "print(len(lams), len(approx_inten))\n",
    "plt.scatter(lams, approx_inten)\n",
    "plt.plot(lams, approx_inten)"
   ]
  },
  {
   "cell_type": "code",
   "execution_count": null,
   "id": "e995c267-038c-486c-a488-409db0dd6889",
   "metadata": {},
   "outputs": [],
   "source": [
    "from scipy.optimize import curve_fit\n",
    "\n",
    "x = np.array(newlams)\n",
    "y = np.array(intensities)\n",
    "xerr = np.array(errl)\n",
    "yerr = np.array(erri)\n",
    "\n",
    "def func(x, a, b, c, d):\n",
    "     return (a*(d*x+c)**-5)/(np.exp(b/(d*x+c))-1)\n",
    "    \n",
    "def func2(x, a, b, c, d):\n",
    "     return (a*(x)**-5)/(np.exp(b/(x))-1)\n",
    "\n",
    "xtest = np.linspace(-1000, 1000)\n",
    "p0 = (6e-6, 0.01, -4.5, 0.008)\n",
    "p0 = (6e-5, 0.01, 0, 0)\n",
    "plt.scatter(x, y,marker='.', label='Raw Data')\n",
    "plt.plot(xtest, func(xtest, *p0), 'r--',\n",
    "          label='ahhhhh')\n",
    "plt.show()\n",
    "\n",
    "p0 = (6e-6, 0.01, -4.5, 0.006)\n",
    "plt.scatter(x, y,marker='.', label='Raw Data')\n",
    "plt.plot(xtest, func2(xtest, *p0), 'r--',\n",
    "          label='ahhhhh')\n",
    "plt.show()\n",
    "\n",
    "\n",
    "popt, pcov = curve_fit(func2, x, y,sigma=(yerr**2+xerr**2)**0.5, p0=p0)\n",
    "\n",
    "plt.scatter(x, y,marker='.', label='Raw Data')\n",
    "plt.plot(xtest, func2(xtest, *popt), 'r--',\n",
    "          label='fit: T = %5.3fexp(%5.3ft + %5.3ft + %5.3ft))' % tuple(popt))\n",
    "plt.title(\"Exponential Fit to Temperature vs. Time data for Brass Can\")\n",
    "plt.xlabel(\"Time (s)\")\n",
    "plt.ylabel(\"Temperature (Kelvin)\")\n",
    "#plt.text(165, 35, \"K = 82.72 W/(m*K), \\n Accepted Value: 111 W/(m*K)\", fontsize=10, bbox=dict(facecolor='none', edgecolor='black'))\n",
    "# plt.legend()\n",
    "print(popt)\n",
    "np.sum((func(x, *popt) - y)**2/y)"
   ]
  },
  {
   "cell_type": "code",
   "execution_count": null,
   "id": "db6be306-7667-4d33-a804-8a6907b6bcea",
   "metadata": {},
   "outputs": [],
   "source": [
    "# Load Full Blackbody Data\n",
    "def get_inten(fn):\n",
    "    print(fn)\n",
    "    with open(fn) as f:\n",
    "        lines = f.readlines()\n",
    "    start = lines.index('>>>>>Begin Spectral Data<<<<<\\n')+1\n",
    "    data = lines[start:]\n",
    "    lam = np.array([float(data[i][:data[i].index(\"\\t\")]) for i in range(len(data))])\n",
    "    inten = np.array([(data[i][data[i].index(\"\\t\")+1:data[i].index(\"\\n\")]) for i in range(len(data))])\n",
    "    lam = lam[np.where(inten!='')].astype(np.float)\n",
    "    inten = (inten[np.where(inten!='')].astype(np.float))\n",
    "    plt.plot(lam, inten, 'r.')\n",
    "    plt.show()\n",
    "\n",
    "    index = np.where(inten == max(inten))[0][0]\n",
    "    print(index)\n",
    "    erri = np.std(inten[index-2:index+2])\n",
    "    errl = np.std(lam[np.where(abs(inten)>0.5*max(inten))])\n",
    "    print(erri, errl)\n",
    "    return lam, inten, errl, erri"
   ]
  },
  {
   "cell_type": "code",
   "execution_count": null,
   "id": "1dd4d78c-4fca-4ba4-8301-b891136d991f",
   "metadata": {},
   "outputs": [],
   "source": [
    "lam, inten, errl, erri = get_inten(\"blackbody test1.txt\")"
   ]
  },
  {
   "cell_type": "code",
   "execution_count": 9,
   "id": "eeaf2eb6-3d65-44f2-8b7d-af80ae204e68",
   "metadata": {},
   "outputs": [
    {
     "name": "stderr",
     "output_type": "stream",
     "text": [
      "/tmp/ipykernel_112941/2846371146.py:9: RuntimeWarning: overflow encountered in exp\n",
      "  return (a*(d*x + c)**-5)/(np.exp(b/(d*x + c))-1)\n"
     ]
    },
    {
     "data": {
      "image/png": "[encoded data removed]",
      "text/plain": [
       "<Figure size 432x288 with 1 Axes>"
      ]
     },
     "metadata": {
      "needs_background": "light"
     },
     "output_type": "display_data"
    },
    {
     "name": "stdout",
     "output_type": "stream",
     "text": [
      "[ 3.e-24  1.e+00 -6.e-04  1.e+00]\n"
     ]
    },
    {
     "name": "stderr",
     "output_type": "stream",
     "text": [
      "/tmp/ipykernel_112941/2846371146.py:9: RuntimeWarning: divide by zero encountered in power\n",
      "  return (a*(d*x + c)**-5)/(np.exp(b/(d*x + c))-1)\n",
      "/tmp/ipykernel_112941/2846371146.py:9: RuntimeWarning: divide by zero encountered in true_divide\n",
      "  return (a*(d*x + c)**-5)/(np.exp(b/(d*x + c))-1)\n",
      "/tmp/ipykernel_112941/2846371146.py:9: RuntimeWarning: invalid value encountered in true_divide\n",
      "  return (a*(d*x + c)**-5)/(np.exp(b/(d*x + c))-1)\n",
      "/home/ayushmaan/.local/lib/python3.10/site-packages/scipy/optimize/_minpack_py.py:833: OptimizeWarning: Covariance of the parameters could not be estimated\n",
      "  warnings.warn('Covariance of the parameters could not be estimated',\n",
      "/tmp/ipykernel_112941/2846371146.py:9: RuntimeWarning: overflow encountered in exp\n",
      "  return (a*(d*x + c)**-5)/(np.exp(b/(d*x + c))-1)\n",
      "/tmp/ipykernel_112941/2846371146.py:9: RuntimeWarning: divide by zero encountered in power\n",
      "  return (a*(d*x + c)**-5)/(np.exp(b/(d*x + c))-1)\n",
      "/tmp/ipykernel_112941/2846371146.py:9: RuntimeWarning: divide by zero encountered in true_divide\n",
      "  return (a*(d*x + c)**-5)/(np.exp(b/(d*x + c))-1)\n",
      "/tmp/ipykernel_112941/2846371146.py:9: RuntimeWarning: invalid value encountered in true_divide\n",
      "  return (a*(d*x + c)**-5)/(np.exp(b/(d*x + c))-1)\n"
     ]
    },
    {
     "ename": "UFuncTypeError",
     "evalue": "ufunc 'subtract' did not contain a loop with signature matching types (dtype('float64'), dtype('<U6')) -> None",
     "output_type": "error",
     "traceback": [
      "\u001b[0;31m---------------------------------------------------------------------------\u001b[0m",
      "\u001b[0;31mUFuncTypeError\u001b[0m                            Traceback (most recent call last)",
      "\u001b[0;32m/tmp/ipykernel_112941/2846371146.py\u001b[0m in \u001b[0;36m<module>\u001b[0;34m\u001b[0m\n\u001b[1;32m     25\u001b[0m \u001b[0;31m# plt.legend()\u001b[0m\u001b[0;34m\u001b[0m\u001b[0;34m\u001b[0m\u001b[0m\n\u001b[1;32m     26\u001b[0m \u001b[0mprint\u001b[0m\u001b[0;34m(\u001b[0m\u001b[0mpopt\u001b[0m\u001b[0;34m)\u001b[0m\u001b[0;34m\u001b[0m\u001b[0;34m\u001b[0m\u001b[0m\n\u001b[0;32m---> 27\u001b[0;31m \u001b[0mnp\u001b[0m\u001b[0;34m.\u001b[0m\u001b[0msum\u001b[0m\u001b[0;34m(\u001b[0m\u001b[0;34m(\u001b[0m\u001b[0mfunc2\u001b[0m\u001b[0;34m(\u001b[0m\u001b[0mx\u001b[0m\u001b[0;34m,\u001b[0m \u001b[0;34m*\u001b[0m\u001b[0mpopt\u001b[0m\u001b[0;34m)\u001b[0m \u001b[0;34m-\u001b[0m \u001b[0my\u001b[0m\u001b[0;34m)\u001b[0m\u001b[0;34m**\u001b[0m\u001b[0;36m2\u001b[0m\u001b[0;34m/\u001b[0m\u001b[0my\u001b[0m\u001b[0;34m)\u001b[0m\u001b[0;34m\u001b[0m\u001b[0;34m\u001b[0m\u001b[0m\n\u001b[0m",
      "\u001b[0;31mUFuncTypeError\u001b[0m: ufunc 'subtract' did not contain a loop with signature matching types (dtype('float64'), dtype('<U6')) -> None"
     ]
    },
    {
     "data": {
      "image/png": "[encoded data removed]",
      "text/plain": [
       "<Figure size 432x288 with 1 Axes>"
      ]
     },
     "metadata": {
      "needs_background": "light"
     },
     "output_type": "display_data"
    }
   ],
   "source": [
    "from scipy.optimize import curve_fit\n",
    "\n",
    "x = np.array(lam/1e6)\n",
    "y = np.array(inten)\n",
    "# xerr = np.array(errl)\n",
    "# yerr = np.array(erri)\n",
    "    \n",
    "def func2(x, a, b, c, d):\n",
    "     return (a*(d*x + c)**-5)/(np.exp(b/(d*x + c))-1)\n",
    "\n",
    "xtest = np.linspace(0.0001, 0.001)\n",
    "p0 = (3e-24, 1, -0.0006, 1)\n",
    "plt.scatter(x, y,marker='.', label='Raw Data')\n",
    "plt.plot(xtest, func2(xtest, *p0), 'r--',\n",
    "          label='ahhhhh')\n",
    "plt.show()\n",
    "\n",
    "\n",
    "popt, pcov = curve_fit(func2, x, y, p0=p0)\n",
    "\n",
    "plt.scatter(x, y,marker='.', label='Raw Data')\n",
    "plt.plot(xtest, func2(xtest, *popt), 'r--',\n",
    "          label='fit')\n",
    "#plt.text(165, 35, \"K = 82.72 W/(m*K), \\n Accepted Value: 111 W/(m*K)\", fontsize=10, bbox=dict(facecolor='none', edgecolor='black'))\n",
    "# plt.legend()\n",
    "print(popt)\n",
    "np.sum((func2(x, *popt) - y)**2/y)"
   ]
  },
  {
   "cell_type": "code",
   "execution_count": 13,
   "id": "6b43b291-fe33-44e4-b591-b269afdbeeb0",
   "metadata": {},
   "outputs": [
    {
     "data": {
      "image/png": "[encoded data removed]",
      "text/plain": [
       "<Figure size 432x288 with 1 Axes>"
      ]
     },
     "metadata": {
      "needs_background": "light"
     },
     "output_type": "display_data"
    }
   ],
   "source": [
    "# def blackbody_lam(lam, T, d=0):\n",
    "#     \"\"\" Blackbody as a function of wavelength (um) and temperature (K).\n",
    "\n",
    "#     returns units of erg/s/cm^2/cm/Steradian\n",
    "#     \"\"\"\n",
    "#     from scipy.constants import h,k,c\n",
    "#     lam = 1e-6 * lam # convert to metres\n",
    "#     return 2*h*c**2 / ((lam+d)**5 * (np.exp(h*c / ((lam+d)*k*T)) - 1))\n",
    "\n",
    "h = 6.626e-34\n",
    "k = 1.380e-23\n",
    "c = 3e8\n",
    "def blackbody_freq_func(wave, T):\n",
    "    freq = np.divide(c, wave)\n",
    "    exp = np.exp((h*freq)/(k*T))\n",
    "    return (2*h*freq**3)/(c**2*(exp-1))\n",
    "\n",
    "popt, pcov = curve_fit(blackbody_freq_func, x, y, p0=1000)\n",
    "\n",
    "# get the best fitting parameter values and their 1 sigma errors\n",
    "# (assuming the parameters aren't strongly correlated).\n",
    "\n",
    "# bestT1, bestT2 = popt\n",
    "# sigmaT1, sigmaT2 = np.sqrt(np.diag(pcov))\n",
    "\n",
    "# ybest = blackbody_lam(x, bestT1) + blackbody_lam(x, bestT2)\n",
    "\n",
    "\n",
    "# degrees_of_freedom = len(x) - 2\n",
    "# resid = (y - func(x, *popt))\n",
    "# chisq = np.dot(resid, resid)\n",
    "\n",
    "# # plot the solution\n",
    "y_res = blackbody_freq_func(x, popt)\n",
    "\n",
    "#plt.plot(x, y_res, label='Best fitting\\nmodel')\n",
    "plt.plot(x,y)\n",
    "#plt.legend(frameon=False)\n",
    "plt.savefig('fit_bb.png')\n",
    "plt.show()"
   ]
  },
  {
   "cell_type": "code",
   "execution_count": null,
   "id": "4df27e3d-7762-49eb-a266-ff4f66015682",
   "metadata": {},
   "outputs": [],
   "source": [
    "#irdk what's going on. Trying a gaussian fit."
   ]
  }
 ],
 "metadata": {
  "kernelspec": {
   "display_name": "Python 3 (ipykernel)",
   "language": "python",
   "name": "python3"
  },
  "language_info": {
   "codemirror_mode": {
    "name": "ipython",
    "version": 3
   },
   "file_extension": ".py",
   "mimetype": "text/x-python",
   "name": "python",
   "nbconvert_exporter": "python",
   "pygments_lexer": "ipython3",
   "version": "3.10.8"
  }
 },
 "nbformat": 4,
 "nbformat_minor": 5
}
